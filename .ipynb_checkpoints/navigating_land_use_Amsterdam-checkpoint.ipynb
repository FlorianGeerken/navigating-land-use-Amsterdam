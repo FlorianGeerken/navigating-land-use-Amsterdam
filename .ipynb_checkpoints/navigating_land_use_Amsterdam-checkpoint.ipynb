{
 "cells": [
  {
   "cell_type": "code",
   "execution_count": null,
   "metadata": {},
   "outputs": [],
   "source": [
    "import osmnx as ox\n",
    "import pandas as pd\n",
    "import matplotlib.pyplot as plt\n",
    "import networkx as nx\n",
    "import geopandas as gpd\n",
    "from shapely.geometry import Point, LineString\n",
    "from shapely.geometry.multipolygon import MultiPolygon\n",
    "from shapely import wkt\n",
    "import requests\n",
    "import json\n",
    "import sklearn\n",
    "import numpy as np"
   ]
  },
  {
   "cell_type": "code",
   "execution_count": null,
   "metadata": {},
   "outputs": [],
   "source": [
    "#downloading network from OSMnx API\n",
    "G = ox.graph_from_place('Amsterdam, Netherlands',network_type='walk')"
   ]
  },
  {
   "cell_type": "code",
   "execution_count": null,
   "metadata": {},
   "outputs": [],
   "source": [
    "ox.plot_graph(G)"
   ]
  },
  {
   "cell_type": "code",
   "execution_count": null,
   "metadata": {},
   "outputs": [],
   "source": []
  },
  {
   "cell_type": "code",
   "execution_count": null,
   "metadata": {},
   "outputs": [],
   "source": [
    "#Connecting to Amsterdam API to get the coordinates of our chosen addresses\n",
    "def send_request_loc(adres):\n",
    "# GET https://api.data.amsterdam.nl/bag/openbareruimte/\n",
    "    response = requests.get(\n",
    "        url=\"https://api.data.amsterdam.nl/atlas/search/adres/\",\n",
    "        params={\"q\": adres,},)\n",
    "    resp_str = response.content\n",
    "    resp_dict = json.loads(resp_str)\n",
    "    if len(resp_dict['results']) == 0:\n",
    "        coord = ['Geen gegevens']\n",
    "    else:\n",
    "        coord = resp_dict['results'][0]['centroid']\n",
    "    \n",
    "    return coord"
   ]
  },
  {
   "cell_type": "code",
   "execution_count": null,
   "metadata": {},
   "outputs": [],
   "source": [
    "#loading land use dataset\n",
    "df = pd.read_csv('data/GRONDGEBRUIK_2017.csv',sep=';')"
   ]
  },
  {
   "cell_type": "code",
   "execution_count": null,
   "metadata": {},
   "outputs": [],
   "source": [
    "#Setting geometries to MultiPolygon and adding geometry column to pandas dataframe\n",
    "geometry = []\n",
    "\n",
    "for i in range(0,len(df)):\n",
    "\n",
    "    p = wkt.loads(df.iloc[i]['WKT_LNG_LAT'])\n",
    "    geo = MultiPolygon([p])\n",
    "    geometry.append(geo)\n",
    "    \n",
    "df['geometry'] = geometry"
   ]
  },
  {
   "cell_type": "code",
   "execution_count": null,
   "metadata": {},
   "outputs": [],
   "source": [
    "#creating GeoDataFrame\n",
    "gdf = gpd.GeoDataFrame(df,geometry='geometry')"
   ]
  },
  {
   "cell_type": "code",
   "execution_count": null,
   "metadata": {},
   "outputs": [],
   "source": [
    "#gdf['geometry'] = gdf['geometry'].set_crs(epsg=4326)"
   ]
  },
  {
   "cell_type": "code",
   "execution_count": null,
   "metadata": {},
   "outputs": [],
   "source": [
    "#Retrieving coordinates from Amsterdam API\n",
    "loc1 = send_request_loc('Stationsplein')\n",
    "loc2 = send_request_loc('Linnaeuskade 31')"
   ]
  },
  {
   "cell_type": "code",
   "execution_count": null,
   "metadata": {},
   "outputs": [],
   "source": [
    "#Plotting the land use map\n",
    "gdf.plot(column='AMScode_Oms',figsize= (20,30),legend=True,legend_kwds={'loc': 'center right','bbox_to_anchor':(1.25, 0, 0, 1)})"
   ]
  },
  {
   "cell_type": "code",
   "execution_count": null,
   "metadata": {
    "scrolled": true
   },
   "outputs": [],
   "source": [
    "#Finding nodes nearest to the source and target of the route\n",
    "werk1 = ox.distance.nearest_nodes(G,loc1[0],loc1[1])\n",
    "werk2 = ox.distance.nearest_nodes(G,loc2[0],loc2[1])\n"
   ]
  },
  {
   "cell_type": "code",
   "execution_count": null,
   "metadata": {},
   "outputs": [],
   "source": [
    "werk2"
   ]
  },
  {
   "cell_type": "code",
   "execution_count": null,
   "metadata": {},
   "outputs": [],
   "source": []
  },
  {
   "cell_type": "code",
   "execution_count": null,
   "metadata": {
    "scrolled": true
   },
   "outputs": [],
   "source": [
    "#Calculating shortest path, plotting map to check\n",
    "route = nx.shortest_path(G, source=werk1, target=werk2,weight='length')\n",
    "ox.plot_graph_route(G, route)"
   ]
  },
  {
   "cell_type": "code",
   "execution_count": null,
   "metadata": {},
   "outputs": [],
   "source": [
    "#Saving the route as LineString\n",
    "line = []\n",
    "for i in route:\n",
    "    point = (G.nodes[i]['x'],G.nodes[i]['y'])\n",
    "    line.append(point)\n",
    "\n",
    "line = LineString(line)"
   ]
  },
  {
   "cell_type": "code",
   "execution_count": null,
   "metadata": {},
   "outputs": [],
   "source": [
    "#Creating geodataframe\n",
    "route_df = gpd.GeoDataFrame(data= [['route 1',line]],columns=['naam_route','geometry'],geometry='geometry')"
   ]
  },
  {
   "cell_type": "code",
   "execution_count": null,
   "metadata": {},
   "outputs": [],
   "source": [
    "#matching crs of geodataframes\n",
    "route_df.crs = gdf.crs"
   ]
  },
  {
   "cell_type": "code",
   "execution_count": null,
   "metadata": {},
   "outputs": [],
   "source": [
    "#Adding  a buffer around the line in order the intersect with more of the surrounding\n",
    "route_df.geometry = route_df.geometry.buffer(0.0002)"
   ]
  },
  {
   "cell_type": "code",
   "execution_count": null,
   "metadata": {},
   "outputs": [],
   "source": [
    "#Finding the intersecting areas in both geodataframes\n",
    "joined_gdf = gpd.sjoin(gdf, route_df, op='intersects')"
   ]
  },
  {
   "cell_type": "code",
   "execution_count": null,
   "metadata": {},
   "outputs": [],
   "source": [
    "#Plotting the route on the land use map. \n",
    "ax = gdf.plot(column= \"AMScode\",figsize=(20,20),cmap='tab20c')\n",
    "route_df.plot(ax=ax, color='yellow')\n",
    "minx, miny, maxx, maxy = route_df.total_bounds \n",
    "ax.set_xlim(minx * 0.9998 , maxx * 1.0002)\n",
    "ax.set_ylim(miny * 0.9998, maxy * 1.0002)\n",
    "plt.show()"
   ]
  },
  {
   "cell_type": "code",
   "execution_count": null,
   "metadata": {},
   "outputs": [],
   "source": [
    "#Calculating the area of each intersection between the line and the land use polygons\n",
    "area = []\n",
    "for i in joined_gdf.geometry:\n",
    "    ar = i.intersection(route_df.iloc[0].geometry).area\n",
    "    area.append(ar)\n",
    "    \n",
    "joined_gdf['area'] = area"
   ]
  },
  {
   "cell_type": "code",
   "execution_count": null,
   "metadata": {},
   "outputs": [],
   "source": [
    "#Summing these intersections to get the total for each land use \n",
    "intersection = pd.DataFrame(joined_gdf.groupby(['AMScode_Oms'])['area'].sum())"
   ]
  },
  {
   "cell_type": "code",
   "execution_count": null,
   "metadata": {},
   "outputs": [],
   "source": [
    "#Dropping 'Wegverkeersterrein' (roads). Since this is not part of the surroundings but the actual surface we are using\n",
    "intersection.drop('Wegverkeersterrein',axis=0, inplace=True)"
   ]
  },
  {
   "cell_type": "code",
   "execution_count": null,
   "metadata": {},
   "outputs": [],
   "source": [
    "#Calculating the sum of all areas in order to calculate percentage\n",
    "area_sum = intersection.area.sum(axis=0)\n",
    "intersection['percentage_land_use'] = intersection['area'] / area_sum * 100"
   ]
  },
  {
   "cell_type": "code",
   "execution_count": null,
   "metadata": {
    "scrolled": true
   },
   "outputs": [],
   "source": [
    "#Dropping the index name and plotting the tabel\n",
    "intersection.index.name = None\n",
    "pd.DataFrame(intersection['percentage_land_use'])"
   ]
  },
  {
   "cell_type": "code",
   "execution_count": null,
   "metadata": {},
   "outputs": [],
   "source": []
  },
  {
   "cell_type": "code",
   "execution_count": null,
   "metadata": {},
   "outputs": [],
   "source": []
  }
 ],
 "metadata": {
  "kernelspec": {
   "display_name": "Python 3",
   "language": "python",
   "name": "python3"
  },
  "language_info": {
   "codemirror_mode": {
    "name": "ipython",
    "version": 3
   },
   "file_extension": ".py",
   "mimetype": "text/x-python",
   "name": "python",
   "nbconvert_exporter": "python",
   "pygments_lexer": "ipython3",
   "version": "3.9.4"
  }
 },
 "nbformat": 4,
 "nbformat_minor": 2
}
